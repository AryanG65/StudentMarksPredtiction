{
 "cells": [
  {
   "cell_type": "code",
   "execution_count": 15,
   "id": "ea40e006",
   "metadata": {},
   "outputs": [],
   "source": [
    "import numpy as np\n",
    "import pandas as pd\n",
    "import matplotlib.pyplot as plt\n",
    "import seaborn as sns\n",
    "import warnings\n",
    "warnings.filterwarnings(\"ignore\")\n",
    "\n",
    "from sklearn.metrics import mean_squared_error, r2_score, mean_absolute_error\n",
    "from sklearn.neighbors import KNeighborsRegressor\n",
    "from sklearn.tree import DecisionTreeRegressor\n",
    "from sklearn.ensemble import RandomForestRegressor, AdaBoostRegressor\n",
    "from sklearn.svm import SVR\n",
    "from sklearn.linear_model import LinearRegression, Ridge, Lasso\n",
    "from sklearn.model_selection import RandomizedSearchCV\n",
    "from sklearn.preprocessing import OneHotEncoder, StandardScaler\n",
    "from sklearn.compose import ColumnTransformer\n",
    "from sklearn.model_selection import train_test_split\n",
    "\n"
   ]
  },
  {
   "cell_type": "code",
   "execution_count": 6,
   "id": "398fe500",
   "metadata": {},
   "outputs": [],
   "source": [
    "df = pd.read_csv(\"stud.csv\")"
   ]
  },
  {
   "cell_type": "code",
   "execution_count": 7,
   "id": "07a28a09",
   "metadata": {},
   "outputs": [
    {
     "data": {
      "text/html": [
       "<div>\n",
       "<style scoped>\n",
       "    .dataframe tbody tr th:only-of-type {\n",
       "        vertical-align: middle;\n",
       "    }\n",
       "\n",
       "    .dataframe tbody tr th {\n",
       "        vertical-align: top;\n",
       "    }\n",
       "\n",
       "    .dataframe thead th {\n",
       "        text-align: right;\n",
       "    }\n",
       "</style>\n",
       "<table border=\"1\" class=\"dataframe\">\n",
       "  <thead>\n",
       "    <tr style=\"text-align: right;\">\n",
       "      <th></th>\n",
       "      <th>gender</th>\n",
       "      <th>race_ethnicity</th>\n",
       "      <th>parental_level_of_education</th>\n",
       "      <th>lunch</th>\n",
       "      <th>test_preparation_course</th>\n",
       "      <th>math_score</th>\n",
       "      <th>reading_score</th>\n",
       "      <th>writing_score</th>\n",
       "    </tr>\n",
       "  </thead>\n",
       "  <tbody>\n",
       "    <tr>\n",
       "      <th>0</th>\n",
       "      <td>female</td>\n",
       "      <td>group B</td>\n",
       "      <td>bachelor's degree</td>\n",
       "      <td>standard</td>\n",
       "      <td>none</td>\n",
       "      <td>72</td>\n",
       "      <td>72</td>\n",
       "      <td>74</td>\n",
       "    </tr>\n",
       "    <tr>\n",
       "      <th>1</th>\n",
       "      <td>female</td>\n",
       "      <td>group C</td>\n",
       "      <td>some college</td>\n",
       "      <td>standard</td>\n",
       "      <td>completed</td>\n",
       "      <td>69</td>\n",
       "      <td>90</td>\n",
       "      <td>88</td>\n",
       "    </tr>\n",
       "    <tr>\n",
       "      <th>2</th>\n",
       "      <td>female</td>\n",
       "      <td>group B</td>\n",
       "      <td>master's degree</td>\n",
       "      <td>standard</td>\n",
       "      <td>none</td>\n",
       "      <td>90</td>\n",
       "      <td>95</td>\n",
       "      <td>93</td>\n",
       "    </tr>\n",
       "    <tr>\n",
       "      <th>3</th>\n",
       "      <td>male</td>\n",
       "      <td>group A</td>\n",
       "      <td>associate's degree</td>\n",
       "      <td>free/reduced</td>\n",
       "      <td>none</td>\n",
       "      <td>47</td>\n",
       "      <td>57</td>\n",
       "      <td>44</td>\n",
       "    </tr>\n",
       "    <tr>\n",
       "      <th>4</th>\n",
       "      <td>male</td>\n",
       "      <td>group C</td>\n",
       "      <td>some college</td>\n",
       "      <td>standard</td>\n",
       "      <td>none</td>\n",
       "      <td>76</td>\n",
       "      <td>78</td>\n",
       "      <td>75</td>\n",
       "    </tr>\n",
       "  </tbody>\n",
       "</table>\n",
       "</div>"
      ],
      "text/plain": [
       "   gender race_ethnicity parental_level_of_education         lunch  \\\n",
       "0  female        group B           bachelor's degree      standard   \n",
       "1  female        group C                some college      standard   \n",
       "2  female        group B             master's degree      standard   \n",
       "3    male        group A          associate's degree  free/reduced   \n",
       "4    male        group C                some college      standard   \n",
       "\n",
       "  test_preparation_course  math_score  reading_score  writing_score  \n",
       "0                    none          72             72             74  \n",
       "1               completed          69             90             88  \n",
       "2                    none          90             95             93  \n",
       "3                    none          47             57             44  \n",
       "4                    none          76             78             75  "
      ]
     },
     "execution_count": 7,
     "metadata": {},
     "output_type": "execute_result"
    }
   ],
   "source": [
    "df.head()"
   ]
  },
  {
   "cell_type": "markdown",
   "id": "7178bbbe",
   "metadata": {},
   "source": [
    "# Preparing X and Y Label"
   ]
  },
  {
   "cell_type": "code",
   "execution_count": 9,
   "id": "5211162d",
   "metadata": {},
   "outputs": [],
   "source": [
    "X = df.drop(columns = [\"math_score\"], axis = 1)"
   ]
  },
  {
   "cell_type": "code",
   "execution_count": 10,
   "id": "90ec4709",
   "metadata": {},
   "outputs": [
    {
     "data": {
      "text/html": [
       "<div>\n",
       "<style scoped>\n",
       "    .dataframe tbody tr th:only-of-type {\n",
       "        vertical-align: middle;\n",
       "    }\n",
       "\n",
       "    .dataframe tbody tr th {\n",
       "        vertical-align: top;\n",
       "    }\n",
       "\n",
       "    .dataframe thead th {\n",
       "        text-align: right;\n",
       "    }\n",
       "</style>\n",
       "<table border=\"1\" class=\"dataframe\">\n",
       "  <thead>\n",
       "    <tr style=\"text-align: right;\">\n",
       "      <th></th>\n",
       "      <th>gender</th>\n",
       "      <th>race_ethnicity</th>\n",
       "      <th>parental_level_of_education</th>\n",
       "      <th>lunch</th>\n",
       "      <th>test_preparation_course</th>\n",
       "      <th>reading_score</th>\n",
       "      <th>writing_score</th>\n",
       "    </tr>\n",
       "  </thead>\n",
       "  <tbody>\n",
       "    <tr>\n",
       "      <th>0</th>\n",
       "      <td>female</td>\n",
       "      <td>group B</td>\n",
       "      <td>bachelor's degree</td>\n",
       "      <td>standard</td>\n",
       "      <td>none</td>\n",
       "      <td>72</td>\n",
       "      <td>74</td>\n",
       "    </tr>\n",
       "    <tr>\n",
       "      <th>1</th>\n",
       "      <td>female</td>\n",
       "      <td>group C</td>\n",
       "      <td>some college</td>\n",
       "      <td>standard</td>\n",
       "      <td>completed</td>\n",
       "      <td>90</td>\n",
       "      <td>88</td>\n",
       "    </tr>\n",
       "    <tr>\n",
       "      <th>2</th>\n",
       "      <td>female</td>\n",
       "      <td>group B</td>\n",
       "      <td>master's degree</td>\n",
       "      <td>standard</td>\n",
       "      <td>none</td>\n",
       "      <td>95</td>\n",
       "      <td>93</td>\n",
       "    </tr>\n",
       "    <tr>\n",
       "      <th>3</th>\n",
       "      <td>male</td>\n",
       "      <td>group A</td>\n",
       "      <td>associate's degree</td>\n",
       "      <td>free/reduced</td>\n",
       "      <td>none</td>\n",
       "      <td>57</td>\n",
       "      <td>44</td>\n",
       "    </tr>\n",
       "    <tr>\n",
       "      <th>4</th>\n",
       "      <td>male</td>\n",
       "      <td>group C</td>\n",
       "      <td>some college</td>\n",
       "      <td>standard</td>\n",
       "      <td>none</td>\n",
       "      <td>78</td>\n",
       "      <td>75</td>\n",
       "    </tr>\n",
       "  </tbody>\n",
       "</table>\n",
       "</div>"
      ],
      "text/plain": [
       "   gender race_ethnicity parental_level_of_education         lunch  \\\n",
       "0  female        group B           bachelor's degree      standard   \n",
       "1  female        group C                some college      standard   \n",
       "2  female        group B             master's degree      standard   \n",
       "3    male        group A          associate's degree  free/reduced   \n",
       "4    male        group C                some college      standard   \n",
       "\n",
       "  test_preparation_course  reading_score  writing_score  \n",
       "0                    none             72             74  \n",
       "1               completed             90             88  \n",
       "2                    none             95             93  \n",
       "3                    none             57             44  \n",
       "4                    none             78             75  "
      ]
     },
     "execution_count": 10,
     "metadata": {},
     "output_type": "execute_result"
    }
   ],
   "source": [
    "X.head()"
   ]
  },
  {
   "cell_type": "code",
   "execution_count": 11,
   "id": "0746ff7a",
   "metadata": {},
   "outputs": [
    {
     "name": "stdout",
     "output_type": "stream",
     "text": [
      "Categorical in 'gender' variable:  ['female' 'male']\n",
      "\n",
      "\n",
      "Categorical in 'race_ethnicity' variable:  ['group B' 'group C' 'group A' 'group D' 'group E']\n",
      "\n",
      "\n",
      "Categorical in 'parental_level_of_education' variable:  [\"bachelor's degree\" 'some college' \"master's degree\" \"associate's degree\"\n",
      " 'high school' 'some high school']\n",
      "\n",
      "\n",
      "Categorical in 'lunch' variable:  ['standard' 'free/reduced']\n",
      "\n",
      "\n",
      "Categorical in 'test_preparation_course' variable:  ['none' 'completed']\n",
      "\n",
      "\n"
     ]
    }
   ],
   "source": [
    "print(\"Categorical in 'gender' variable: \", end = \" \")\n",
    "print(df[\"gender\"].unique())\n",
    "print(\"\\n\")\n",
    "\n",
    "print(\"Categorical in 'race_ethnicity' variable: \", end = \" \")\n",
    "print(df[\"race_ethnicity\"].unique())\n",
    "print(\"\\n\")\n",
    "\n",
    "print(\"Categorical in 'parental_level_of_education' variable: \", end = \" \")\n",
    "print(df[\"parental_level_of_education\"].unique())\n",
    "print(\"\\n\")\n",
    "\n",
    "print(\"Categorical in 'lunch' variable: \", end = \" \")\n",
    "print(df[\"lunch\"].unique())\n",
    "print(\"\\n\")\n",
    "\n",
    "print(\"Categorical in 'test_preparation_course' variable: \", end = \" \")\n",
    "print(df[\"test_preparation_course\"].unique())\n",
    "print(\"\\n\")\n"
   ]
  },
  {
   "cell_type": "code",
   "execution_count": 12,
   "id": "427e059e",
   "metadata": {},
   "outputs": [],
   "source": [
    "y = df[\"math_score\"]\n",
    "\n"
   ]
  },
  {
   "cell_type": "code",
   "execution_count": 13,
   "id": "76aaa30a",
   "metadata": {},
   "outputs": [
    {
     "data": {
      "text/plain": [
       "0      72\n",
       "1      69\n",
       "2      90\n",
       "3      47\n",
       "4      76\n",
       "       ..\n",
       "995    88\n",
       "996    62\n",
       "997    59\n",
       "998    68\n",
       "999    77\n",
       "Name: math_score, Length: 1000, dtype: int64"
      ]
     },
     "execution_count": 13,
     "metadata": {},
     "output_type": "execute_result"
    }
   ],
   "source": [
    "y"
   ]
  },
  {
   "cell_type": "code",
   "execution_count": 16,
   "id": "1bef8f4f",
   "metadata": {},
   "outputs": [],
   "source": [
    "# Create columns Transform with 3 type of transformers\n",
    "\n",
    "num_feature = X.select_dtypes(exclude = \"object\").columns\n",
    "cat_feature = X.select_dtypes(exclude = \"object\").columns\n",
    "\n",
    "numeric_transformer = StandardScaler()\n",
    "oh_transformer = OneHotEncoder()\n",
    "\n",
    "preprocessing = ColumnTransformer(\n",
    "   [ \n",
    "    (\"OneHotEncoder\", oh_transformer, cat_feature),\n",
    "    (\"StandardScaler\", numeric_transformer, num_feature),\n",
    "   ]   \n",
    ")"
   ]
  },
  {
   "cell_type": "code",
   "execution_count": 17,
   "id": "3d1b82df",
   "metadata": {},
   "outputs": [],
   "source": [
    "X = preprocessing.fit_transform(X)"
   ]
  },
  {
   "cell_type": "code",
   "execution_count": 21,
   "id": "3555036b",
   "metadata": {},
   "outputs": [
    {
     "data": {
      "text/plain": [
       "(1000, 151)"
      ]
     },
     "execution_count": 21,
     "metadata": {},
     "output_type": "execute_result"
    }
   ],
   "source": [
    "X.shape"
   ]
  },
  {
   "cell_type": "markdown",
   "id": "dc2122a5",
   "metadata": {},
   "source": [
    " # Applying Train Test Split"
   ]
  },
  {
   "cell_type": "code",
   "execution_count": 22,
   "id": "dc442646",
   "metadata": {},
   "outputs": [
    {
     "name": "stdout",
     "output_type": "stream",
     "text": [
      "(800, 151)\n",
      "(200, 151)\n"
     ]
    }
   ],
   "source": [
    "X_train, X_test, y_train, y_test = train_test_split(X,y, test_size = 0.2, random_state = 44)\n",
    "\n",
    "print(X_train.shape)\n",
    "print(X_test.shape)"
   ]
  },
  {
   "cell_type": "code",
   "execution_count": 23,
   "id": "1e15ebb5",
   "metadata": {},
   "outputs": [],
   "source": [
    "# Creating an evalution function to give all metrics after model training\n",
    "\n",
    "def evaluate_model(true, predicted):\n",
    "    mae = mean_absolute_error(true, predicted)\n",
    "    mse = mean_squared_error(true, predicted)\n",
    "    rmse = np.sqrt(mean_squared_error(true, predicted))\n",
    "    r2_square = r2_score(true, predicted)\n",
    "\n",
    "    return mae, rmse, r2_square"
   ]
  },
  {
   "cell_type": "code",
   "execution_count": 24,
   "id": "3387059f",
   "metadata": {},
   "outputs": [
    {
     "name": "stdout",
     "output_type": "stream",
     "text": [
      "Linear Regression\n",
      "Model performance for Training set\n",
      " - Root Mean Square Error: 7.8295\n",
      " - Mean Absolute Error: 6.2763\n",
      " - R2 Score: 0.7315\n",
      "----------------------------------------\n",
      "Model performance for Test set\n",
      " - Root Mean Square Error: 9.5987\n",
      " - Mean Absolute Error: 7.6694\n",
      " - R2 Score: 0.6081\n",
      "========================================\n",
      "\n",
      "\n",
      "Lasso\n",
      "Model performance for Training set\n",
      " - Root Mean Square Error: 8.7761\n",
      " - Mean Absolute Error: 7.1212\n",
      " - R2 Score: 0.6626\n",
      "----------------------------------------\n",
      "Model performance for Test set\n",
      " - Root Mean Square Error: 8.4732\n",
      " - Mean Absolute Error: 6.7828\n",
      " - R2 Score: 0.6946\n",
      "========================================\n",
      "\n",
      "\n",
      "Ridge\n",
      "Model performance for Training set\n",
      " - Root Mean Square Error: 7.8782\n",
      " - Mean Absolute Error: 6.3971\n",
      " - R2 Score: 0.7281\n",
      "----------------------------------------\n",
      "Model performance for Test set\n",
      " - Root Mean Square Error: 9.1708\n",
      " - Mean Absolute Error: 7.3985\n",
      " - R2 Score: 0.6422\n",
      "========================================\n",
      "\n",
      "\n",
      "K - Neighbors Regressor\n",
      "Model performance for Training set\n",
      " - Root Mean Square Error: 7.7291\n",
      " - Mean Absolute Error: 6.2055\n",
      " - R2 Score: 0.7383\n",
      "----------------------------------------\n",
      "Model performance for Test set\n",
      " - Root Mean Square Error: 8.8973\n",
      " - Mean Absolute Error: 7.1840\n",
      " - R2 Score: 0.6632\n",
      "========================================\n",
      "\n",
      "\n",
      "Decision Tree\n",
      "Model performance for Training set\n",
      " - Root Mean Square Error: 5.0440\n",
      " - Mean Absolute Error: 2.9936\n",
      " - R2 Score: 0.8886\n",
      "----------------------------------------\n",
      "Model performance for Test set\n",
      " - Root Mean Square Error: 11.0615\n",
      " - Mean Absolute Error: 8.7825\n",
      " - R2 Score: 0.4795\n",
      "========================================\n",
      "\n",
      "\n",
      "Random Forest Regressor\n",
      "Model performance for Training set\n",
      " - Root Mean Square Error: 5.5959\n",
      " - Mean Absolute Error: 4.2646\n",
      " - R2 Score: 0.8628\n",
      "----------------------------------------\n",
      "Model performance for Test set\n",
      " - Root Mean Square Error: 9.3548\n",
      " - Mean Absolute Error: 7.4063\n",
      " - R2 Score: 0.6277\n",
      "========================================\n",
      "\n",
      "\n",
      "AdaBoost Regressor\n",
      "Model performance for Training set\n",
      " - Root Mean Square Error: 8.5484\n",
      " - Mean Absolute Error: 7.0181\n",
      " - R2 Score: 0.6799\n",
      "----------------------------------------\n",
      "Model performance for Test set\n",
      " - Root Mean Square Error: 8.7056\n",
      " - Mean Absolute Error: 6.9757\n",
      " - R2 Score: 0.6776\n",
      "========================================\n",
      "\n",
      "\n"
     ]
    }
   ],
   "source": [
    "# Dictionary of models\n",
    "models = {\n",
    "    \"Linear Regression\": LinearRegression(),\n",
    "    \"Lasso\": Lasso(),\n",
    "    \"Ridge\": Ridge(),\n",
    "    \"K - Neighbors Regressor\": KNeighborsRegressor(),\n",
    "    \"Decision Tree\": DecisionTreeRegressor(),\n",
    "    \"Random Forest Regressor\": RandomForestRegressor(),\n",
    "    \"AdaBoost Regressor\": AdaBoostRegressor()\n",
    "}\n",
    "\n",
    "model_list = []\n",
    "r2_list = []\n",
    "\n",
    "# Assuming you have a function evaluate_model(y_true, y_pred) returning: MAE, RMSE, R2\n",
    "for name, model in models.items():\n",
    "    model.fit(X_train, y_train)\n",
    "\n",
    "    y_train_pred = model.predict(X_train)\n",
    "    y_test_pred = model.predict(X_test)\n",
    "\n",
    "    model_train_mae, model_train_rmse, model_train_r2 = evaluate_model(y_train, y_train_pred)\n",
    "    model_test_mae, model_test_rmse, model_test_r2 = evaluate_model(y_test, y_test_pred)\n",
    "\n",
    "    print(name)\n",
    "    model_list.append(name)\n",
    "\n",
    "    print(\"Model performance for Training set\")\n",
    "    print(\" - Root Mean Square Error: {:.4f}\".format(model_train_rmse))\n",
    "    print(\" - Mean Absolute Error: {:.4f}\".format(model_train_mae))       \n",
    "    print(\" - R2 Score: {:.4f}\".format(model_train_r2))          \n",
    "\n",
    "    print(\"-\" * 40)\n",
    "\n",
    "    print(\"Model performance for Test set\")\n",
    "    print(\" - Root Mean Square Error: {:.4f}\".format(model_test_rmse))\n",
    "    print(\" - Mean Absolute Error: {:.4f}\".format(model_test_mae))\n",
    "    print(\" - R2 Score: {:.4f}\".format(model_test_r2))\n",
    "    r2_list.append(model_test_r2)\n",
    "\n",
    "    print(\"=\" * 40)\n",
    "    print(\"\\n\")"
   ]
  },
  {
   "cell_type": "markdown",
   "id": "87f92564",
   "metadata": {},
   "source": [
    "# Result"
   ]
  },
  {
   "cell_type": "code",
   "execution_count": 25,
   "id": "359c3b87",
   "metadata": {},
   "outputs": [
    {
     "data": {
      "text/html": [
       "<div>\n",
       "<style scoped>\n",
       "    .dataframe tbody tr th:only-of-type {\n",
       "        vertical-align: middle;\n",
       "    }\n",
       "\n",
       "    .dataframe tbody tr th {\n",
       "        vertical-align: top;\n",
       "    }\n",
       "\n",
       "    .dataframe thead th {\n",
       "        text-align: right;\n",
       "    }\n",
       "</style>\n",
       "<table border=\"1\" class=\"dataframe\">\n",
       "  <thead>\n",
       "    <tr style=\"text-align: right;\">\n",
       "      <th></th>\n",
       "      <th>Model Name</th>\n",
       "      <th>R2_Score</th>\n",
       "    </tr>\n",
       "  </thead>\n",
       "  <tbody>\n",
       "    <tr>\n",
       "      <th>1</th>\n",
       "      <td>Lasso</td>\n",
       "      <td>0.694582</td>\n",
       "    </tr>\n",
       "    <tr>\n",
       "      <th>6</th>\n",
       "      <td>AdaBoost Regressor</td>\n",
       "      <td>0.677601</td>\n",
       "    </tr>\n",
       "    <tr>\n",
       "      <th>3</th>\n",
       "      <td>K - Neighbors Regressor</td>\n",
       "      <td>0.663242</td>\n",
       "    </tr>\n",
       "    <tr>\n",
       "      <th>2</th>\n",
       "      <td>Ridge</td>\n",
       "      <td>0.642224</td>\n",
       "    </tr>\n",
       "    <tr>\n",
       "      <th>5</th>\n",
       "      <td>Random Forest Regressor</td>\n",
       "      <td>0.627718</td>\n",
       "    </tr>\n",
       "    <tr>\n",
       "      <th>0</th>\n",
       "      <td>Linear Regression</td>\n",
       "      <td>0.608057</td>\n",
       "    </tr>\n",
       "    <tr>\n",
       "      <th>4</th>\n",
       "      <td>Decision Tree</td>\n",
       "      <td>0.479493</td>\n",
       "    </tr>\n",
       "  </tbody>\n",
       "</table>\n",
       "</div>"
      ],
      "text/plain": [
       "                Model Name  R2_Score\n",
       "1                    Lasso  0.694582\n",
       "6       AdaBoost Regressor  0.677601\n",
       "3  K - Neighbors Regressor  0.663242\n",
       "2                    Ridge  0.642224\n",
       "5  Random Forest Regressor  0.627718\n",
       "0        Linear Regression  0.608057\n",
       "4            Decision Tree  0.479493"
      ]
     },
     "execution_count": 25,
     "metadata": {},
     "output_type": "execute_result"
    }
   ],
   "source": [
    "pd.DataFrame(list(zip(model_list, r2_list)), columns=[\"Model Name\", \"R2_Score\"]).sort_values(by=[\"R2_Score\"], ascending=False)"
   ]
  },
  {
   "cell_type": "markdown",
   "id": "a14c0d61",
   "metadata": {},
   "source": [
    "# Linear Regression"
   ]
  },
  {
   "cell_type": "code",
   "execution_count": 26,
   "id": "186b0375",
   "metadata": {},
   "outputs": [
    {
     "name": "stdout",
     "output_type": "stream",
     "text": [
      "Accuracy of these model is 60.81\n"
     ]
    }
   ],
   "source": [
    "lr_model = LinearRegression(fit_intercept = True)\n",
    "lr_model = lr_model.fit(X_train, y_train)\n",
    "y_pred = lr_model.predict(X_test)\n",
    "score = r2_score(y_test, y_pred) * 100\n",
    "print(\"Accuracy of these model is %.2f\" %score)\n"
   ]
  },
  {
   "cell_type": "markdown",
   "id": "0e7d4c01",
   "metadata": {},
   "source": [
    "# Plot y_pred and y_test"
   ]
  },
  {
   "cell_type": "code",
   "execution_count": 27,
   "id": "3e9ee333",
   "metadata": {},
   "outputs": [
    {
     "data": {
      "text/plain": [
       "Text(0, 0.5, 'Predicted')"
      ]
     },
     "execution_count": 27,
     "metadata": {},
     "output_type": "execute_result"
    },
    {
     "data": {
      "image/png": "[encoded data removed]",
      "text/plain": [
       "<Figure size 640x480 with 1 Axes>"
      ]
     },
     "metadata": {},
     "output_type": "display_data"
    }
   ],
   "source": [
    "plt.scatter(y_test, y_pred)\n",
    "plt.xlabel(\"Actual\")\n",
    "plt.ylabel(\"Predicted\")\n"
   ]
  },
  {
   "cell_type": "code",
   "execution_count": 28,
   "id": "b7a10fdc",
   "metadata": {},
   "outputs": [
    {
     "data": {
      "text/plain": [
       "<Axes: xlabel='math_score'>"
      ]
     },
     "execution_count": 28,
     "metadata": {},
     "output_type": "execute_result"
    },
    {
     "data": {
      "image/png": "[encoded data removed]",
      "text/plain": [
       "<Figure size 640x480 with 1 Axes>"
      ]
     },
     "metadata": {},
     "output_type": "display_data"
    }
   ],
   "source": [
    "sns.regplot(x=y_test, y=y_pred, ci = None, color = \"red\")"
   ]
  },
  {
   "cell_type": "markdown",
   "id": "68f8af01",
   "metadata": {},
   "source": [
    "# Difference between Actual and predicted value"
   ]
  },
  {
   "cell_type": "code",
   "execution_count": 29,
   "id": "b4b1aece",
   "metadata": {},
   "outputs": [
    {
     "data": {
      "text/html": [
       "<div>\n",
       "<style scoped>\n",
       "    .dataframe tbody tr th:only-of-type {\n",
       "        vertical-align: middle;\n",
       "    }\n",
       "\n",
       "    .dataframe tbody tr th {\n",
       "        vertical-align: top;\n",
       "    }\n",
       "\n",
       "    .dataframe thead th {\n",
       "        text-align: right;\n",
       "    }\n",
       "</style>\n",
       "<table border=\"1\" class=\"dataframe\">\n",
       "  <thead>\n",
       "    <tr style=\"text-align: right;\">\n",
       "      <th></th>\n",
       "      <th>Actual Value</th>\n",
       "      <th>Predicted Value</th>\n",
       "      <th>Difference</th>\n",
       "    </tr>\n",
       "  </thead>\n",
       "  <tbody>\n",
       "    <tr>\n",
       "      <th>118</th>\n",
       "      <td>51</td>\n",
       "      <td>62.689205</td>\n",
       "      <td>-11.689205</td>\n",
       "    </tr>\n",
       "    <tr>\n",
       "      <th>19</th>\n",
       "      <td>54</td>\n",
       "      <td>55.711826</td>\n",
       "      <td>-1.711826</td>\n",
       "    </tr>\n",
       "    <tr>\n",
       "      <th>41</th>\n",
       "      <td>58</td>\n",
       "      <td>71.343133</td>\n",
       "      <td>-13.343133</td>\n",
       "    </tr>\n",
       "    <tr>\n",
       "      <th>425</th>\n",
       "      <td>62</td>\n",
       "      <td>64.695147</td>\n",
       "      <td>-2.695147</td>\n",
       "    </tr>\n",
       "    <tr>\n",
       "      <th>221</th>\n",
       "      <td>87</td>\n",
       "      <td>75.806572</td>\n",
       "      <td>11.193428</td>\n",
       "    </tr>\n",
       "    <tr>\n",
       "      <th>...</th>\n",
       "      <td>...</td>\n",
       "      <td>...</td>\n",
       "      <td>...</td>\n",
       "    </tr>\n",
       "    <tr>\n",
       "      <th>714</th>\n",
       "      <td>60</td>\n",
       "      <td>64.148738</td>\n",
       "      <td>-4.148738</td>\n",
       "    </tr>\n",
       "    <tr>\n",
       "      <th>744</th>\n",
       "      <td>55</td>\n",
       "      <td>53.843504</td>\n",
       "      <td>1.156496</td>\n",
       "    </tr>\n",
       "    <tr>\n",
       "      <th>671</th>\n",
       "      <td>52</td>\n",
       "      <td>54.939148</td>\n",
       "      <td>-2.939148</td>\n",
       "    </tr>\n",
       "    <tr>\n",
       "      <th>286</th>\n",
       "      <td>97</td>\n",
       "      <td>76.748621</td>\n",
       "      <td>20.251379</td>\n",
       "    </tr>\n",
       "    <tr>\n",
       "      <th>805</th>\n",
       "      <td>75</td>\n",
       "      <td>76.140339</td>\n",
       "      <td>-1.140339</td>\n",
       "    </tr>\n",
       "  </tbody>\n",
       "</table>\n",
       "<p>200 rows × 3 columns</p>\n",
       "</div>"
      ],
      "text/plain": [
       "     Actual Value  Predicted Value  Difference\n",
       "118            51        62.689205  -11.689205\n",
       "19             54        55.711826   -1.711826\n",
       "41             58        71.343133  -13.343133\n",
       "425            62        64.695147   -2.695147\n",
       "221            87        75.806572   11.193428\n",
       "..            ...              ...         ...\n",
       "714            60        64.148738   -4.148738\n",
       "744            55        53.843504    1.156496\n",
       "671            52        54.939148   -2.939148\n",
       "286            97        76.748621   20.251379\n",
       "805            75        76.140339   -1.140339\n",
       "\n",
       "[200 rows x 3 columns]"
      ]
     },
     "execution_count": 29,
     "metadata": {},
     "output_type": "execute_result"
    }
   ],
   "source": [
    "pred_df=pd.DataFrame({\"Actual Value\": y_test,\"Predicted Value\": y_pred, 'Difference':y_test-y_pred})\n",
    "pred_df"
   ]
  },
  {
   "cell_type": "code",
   "execution_count": null,
   "id": "02f8e17a",
   "metadata": {},
   "outputs": [],
   "source": []
  }
 ],
 "metadata": {
  "kernelspec": {
   "display_name": "venv",
   "language": "python",
   "name": "python3"
  },
  "language_info": {
   "codemirror_mode": {
    "name": "ipython",
    "version": 3
   },
   "file_extension": ".py",
   "mimetype": "text/x-python",
   "name": "python",
   "nbconvert_exporter": "python",
   "pygments_lexer": "ipython3",
   "version": "3.12.3"
  }
 },
 "nbformat": 4,
 "nbformat_minor": 5
}
